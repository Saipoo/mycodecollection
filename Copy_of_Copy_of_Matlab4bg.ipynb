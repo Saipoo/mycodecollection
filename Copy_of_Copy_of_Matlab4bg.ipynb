{
  "nbformat": 4,
  "nbformat_minor": 0,
  "metadata": {
    "colab": {
      "provenance": [],
      "authorship_tag": "ABX9TyPYv+ekV/V8TAQFZTRa7CgW",
      "include_colab_link": true
    },
    "kernelspec": {
      "name": "python3",
      "display_name": "Python 3"
    },
    "language_info": {
      "name": "python"
    }
  },
  "cells": [
    {
      "cell_type": "markdown",
      "metadata": {
        "id": "view-in-github",
        "colab_type": "text"
      },
      "source": [
        "<a href=\"https://colab.research.google.com/github/Saipoo/mycodecollection/blob/main/Copy_of_Copy_of_Matlab4bg.ipynb\" target=\"_parent\"><img src=\"https://colab.research.google.com/assets/colab-badge.svg\" alt=\"Open In Colab\"/></a>"
      ]
    },
    {
      "cell_type": "code",
      "execution_count": null,
      "metadata": {
        "colab": {
          "base_uri": "https://localhost:8080/"
        },
        "id": "qBW1QR-b1QRH",
        "outputId": "f1b966af-714f-4e84-d33a-8f7a4ce86a79"
      },
      "outputs": [
        {
          "output_type": "stream",
          "name": "stdout",
          "text": [
            "0.000432900432900433 0.000432900432900433\n",
            "cirrect\n"
          ]
        }
      ],
      "source": [
        "from sympy import beta,gamma\n",
        "m=5\n",
        "n=7\n",
        "m=float(m)\n",
        "n=float(n)\n",
        "x=beta(m,n)\n",
        "y=(gamma(m)*gamma(n))/gamma(m+n)\n",
        "print(x,y)\n",
        "if(abs(x-y)<=0.00001):\n",
        "    print('cirrect')\n",
        "else:\n",
        "    print('incorrect')"
      ]
    },
    {
      "cell_type": "code",
      "source": [
        "from sympy import beta,gamma\n",
        "m=7/2\n",
        "n=11/2\n",
        "m=float(m)\n",
        "n=float(n)\n",
        "x=beta(m,n)\n",
        "y=(gamma(m)*gamma(n))/gamma(m+n)\n",
        "print(x,y)\n",
        "if(abs(x-y)<=0.00001):\n",
        "    print('cirrect')\n",
        "else:\n",
        "    print('incorrect')"
      ],
      "metadata": {
        "colab": {
          "base_uri": "https://localhost:8080/"
        },
        "id": "bOGpISbt1s3y",
        "outputId": "7e6b061a-d70a-4016-abaa-81341735ab72"
      },
      "execution_count": null,
      "outputs": [
        {
          "output_type": "stream",
          "name": "stdout",
          "text": [
            "0.00431432096592837 0.00431432096592837\n",
            "cirrect\n"
          ]
        }
      ]
    }
  ]
}